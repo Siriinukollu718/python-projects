{
 "cells": [
  {
   "cell_type": "code",
   "execution_count": 1,
   "id": "a7bd5961",
   "metadata": {},
   "outputs": [],
   "source": [
    "import pandas as pd\n",
    "import numpy as np"
   ]
  },
  {
   "cell_type": "code",
   "execution_count": 2,
   "id": "280a7c8c",
   "metadata": {},
   "outputs": [],
   "source": [
    "dataset = pd.read_csv(\"./iris.csv\", names=['sw', 'sl', 'pw', 'pl', 'target'])"
   ]
  },
  {
   "cell_type": "code",
   "execution_count": 3,
   "id": "12d90f38",
   "metadata": {},
   "outputs": [
    {
     "name": "stdout",
     "output_type": "stream",
     "text": [
      "<class 'pandas.core.frame.DataFrame'>\n",
      "RangeIndex: 150 entries, 0 to 149\n",
      "Data columns (total 5 columns):\n",
      " #   Column  Non-Null Count  Dtype  \n",
      "---  ------  --------------  -----  \n",
      " 0   sw      150 non-null    float64\n",
      " 1   sl      150 non-null    float64\n",
      " 2   pw      150 non-null    float64\n",
      " 3   pl      150 non-null    float64\n",
      " 4   target  150 non-null    object \n",
      "dtypes: float64(4), object(1)\n",
      "memory usage: 6.0+ KB\n"
     ]
    }
   ],
   "source": [
    "dataset.info()"
   ]
  },
  {
   "cell_type": "code",
   "execution_count": 4,
   "id": "16f3df3b",
   "metadata": {},
   "outputs": [],
   "source": [
    "features = dataset.iloc[:, :-1].values[:100]\n",
    "labels = dataset.iloc[:, -1].values[:100]"
   ]
  },
  {
   "cell_type": "code",
   "execution_count": 5,
   "id": "131c2bc8",
   "metadata": {},
   "outputs": [
    {
     "name": "stderr",
     "output_type": "stream",
     "text": [
      "C:\\Users\\lenovo\\anaconda3\\envs\\Assign\\lib\\site-packages\\sklearn\\utils\\validation.py:72: FutureWarning: Pass k=2 as keyword args. From version 1.0 (renaming of 0.25) passing these as positional arguments will result in an error\n",
      "  \"will result in an error\", FutureWarning)\n"
     ]
    }
   ],
   "source": [
    "from sklearn.feature_selection import SelectKBest, f_classif\n",
    "features = SelectKBest(f_classif, 2).fit_transform(features, labels)"
   ]
  },
  {
   "cell_type": "code",
   "execution_count": 6,
   "id": "026188e1",
   "metadata": {},
   "outputs": [],
   "source": [
    "from sklearn.preprocessing import LabelEncoder\n",
    "labels = LabelEncoder().fit_transform(labels)"
   ]
  },
  {
   "cell_type": "code",
   "execution_count": 7,
   "id": "ace0a989",
   "metadata": {},
   "outputs": [],
   "source": [
    "from sklearn.model_selection import train_test_split"
   ]
  },
  {
   "cell_type": "code",
   "execution_count": 8,
   "id": "b56a10a7",
   "metadata": {},
   "outputs": [],
   "source": [
    "X_train, X_test, y_train, y_test = train_test_split(features, labels)"
   ]
  },
  {
   "cell_type": "code",
   "execution_count": 9,
   "id": "09fee172",
   "metadata": {},
   "outputs": [],
   "source": [
    "# X_train"
   ]
  },
  {
   "cell_type": "code",
   "execution_count": 10,
   "id": "72ca2ddd",
   "metadata": {},
   "outputs": [],
   "source": [
    "#Metrics\n",
    "from sklearn.metrics import classification_report, confusion_matrix\n",
    "\n",
    "class metrics_:\n",
    "     \n",
    "    def __init__(self, y_test, y_pred):\n",
    "        self.y_test = y_test\n",
    "        self.y_pred = y_pred\n",
    "        \n",
    "    def cr(self):\n",
    "        print(classification_report(self.y_pred, self.y_test))\n",
    "        \n",
    "    def cm(self):\n",
    "        print(confusion_matrix(self.y_pred, self.y_test))"
   ]
  },
  {
   "cell_type": "markdown",
   "id": "edf7b96a",
   "metadata": {},
   "source": [
    "# Algorithmns"
   ]
  },
  {
   "cell_type": "code",
   "execution_count": 11,
   "id": "6ad27e7f",
   "metadata": {},
   "outputs": [],
   "source": [
    "# Logistic Regression \n",
    "from sklearn.linear_model import LogisticRegression\n",
    "lr = LogisticRegression().fit(X_train, y_train)"
   ]
  },
  {
   "cell_type": "code",
   "execution_count": 12,
   "id": "4ce894d6",
   "metadata": {},
   "outputs": [],
   "source": [
    "y_predlr = lr.predict(X_test)"
   ]
  },
  {
   "cell_type": "code",
   "execution_count": 13,
   "id": "bf87b303",
   "metadata": {},
   "outputs": [],
   "source": [
    "y_predlr_ = [1 if val >= 0.5 else 0 for val in y_predlr]"
   ]
  },
  {
   "cell_type": "code",
   "execution_count": 14,
   "id": "c3742204",
   "metadata": {},
   "outputs": [
    {
     "name": "stdout",
     "output_type": "stream",
     "text": [
      "              precision    recall  f1-score   support\n",
      "\n",
      "           0       1.00      1.00      1.00        13\n",
      "           1       1.00      1.00      1.00        12\n",
      "\n",
      "    accuracy                           1.00        25\n",
      "   macro avg       1.00      1.00      1.00        25\n",
      "weighted avg       1.00      1.00      1.00        25\n",
      "\n",
      "[[13  0]\n",
      " [ 0 12]]\n"
     ]
    }
   ],
   "source": [
    "reports = metrics_(y_test, y_predlr_)\n",
    "reports.cr()\n",
    "reports.cm()"
   ]
  },
  {
   "cell_type": "code",
   "execution_count": 15,
   "id": "f6c5676a",
   "metadata": {},
   "outputs": [],
   "source": [
    "from sklearn.tree import DecisionTreeClassifier\n",
    "dt = DecisionTreeClassifier().fit(X_train, y_train)"
   ]
  },
  {
   "cell_type": "code",
   "execution_count": 16,
   "id": "cf5feaf1",
   "metadata": {},
   "outputs": [],
   "source": [
    "ypredictdr = dt.predict(X_test)"
   ]
  },
  {
   "cell_type": "code",
   "execution_count": 17,
   "id": "ccca56b6",
   "metadata": {},
   "outputs": [
    {
     "name": "stdout",
     "output_type": "stream",
     "text": [
      "              precision    recall  f1-score   support\n",
      "\n",
      "           0       1.00      1.00      1.00        13\n",
      "           1       1.00      1.00      1.00        12\n",
      "\n",
      "    accuracy                           1.00        25\n",
      "   macro avg       1.00      1.00      1.00        25\n",
      "weighted avg       1.00      1.00      1.00        25\n",
      "\n",
      "[[13  0]\n",
      " [ 0 12]]\n"
     ]
    }
   ],
   "source": [
    "reports = metrics_(y_test, ypredictdr)\n",
    "reports.cr()\n",
    "reports.cm()"
   ]
  },
  {
   "cell_type": "code",
   "execution_count": 18,
   "id": "c5a19b7f",
   "metadata": {},
   "outputs": [
    {
     "name": "stdout",
     "output_type": "stream",
     "text": [
      "              precision    recall  f1-score   support\n",
      "\n",
      "           0       1.00      1.00      1.00        13\n",
      "           1       1.00      1.00      1.00        12\n",
      "\n",
      "    accuracy                           1.00        25\n",
      "   macro avg       1.00      1.00      1.00        25\n",
      "weighted avg       1.00      1.00      1.00        25\n",
      "\n",
      "[[13  0]\n",
      " [ 0 12]]\n"
     ]
    }
   ],
   "source": [
    "from sklearn.ensemble import RandomForestClassifier\n",
    "rf = RandomForestClassifier().fit(X_train, y_train)\n",
    "ypredrf = rf.predict(X_test)\n",
    "reports = metrics_(y_test, ypredrf)\n",
    "reports.cr()\n",
    "reports.cm()"
   ]
  },
  {
   "cell_type": "code",
   "execution_count": 19,
   "id": "8dc99aa4",
   "metadata": {},
   "outputs": [
    {
     "name": "stdout",
     "output_type": "stream",
     "text": [
      "              precision    recall  f1-score   support\n",
      "\n",
      "           0       1.00      1.00      1.00        13\n",
      "           1       1.00      1.00      1.00        12\n",
      "\n",
      "    accuracy                           1.00        25\n",
      "   macro avg       1.00      1.00      1.00        25\n",
      "weighted avg       1.00      1.00      1.00        25\n",
      "\n",
      "[[13  0]\n",
      " [ 0 12]]\n"
     ]
    }
   ],
   "source": [
    "from sklearn.neighbors import KNeighborsClassifier\n",
    "knn = KNeighborsClassifier().fit(X_train, y_train)\n",
    "ypredknn = knn.predict(X_test)\n",
    "reports = metrics_(y_test, ypredknn)\n",
    "reports.cr()\n",
    "reports.cm()"
   ]
  },
  {
   "cell_type": "code",
   "execution_count": 20,
   "id": "371ab543",
   "metadata": {},
   "outputs": [
    {
     "name": "stdout",
     "output_type": "stream",
     "text": [
      "              precision    recall  f1-score   support\n",
      "\n",
      "           0       1.00      1.00      1.00        13\n",
      "           1       1.00      1.00      1.00        12\n",
      "\n",
      "    accuracy                           1.00        25\n",
      "   macro avg       1.00      1.00      1.00        25\n",
      "weighted avg       1.00      1.00      1.00        25\n",
      "\n",
      "[[13  0]\n",
      " [ 0 12]]\n"
     ]
    }
   ],
   "source": [
    "from sklearn.svm import SVC\n",
    "svm = SVC().fit(X_train, y_train)\n",
    "ypredsvm = svm.predict(X_test)\n",
    "reports = metrics_(y_test, ypredsvm)\n",
    "reports.cr()\n",
    "reports.cm()"
   ]
  },
  {
   "cell_type": "code",
   "execution_count": null,
   "id": "56534a07",
   "metadata": {},
   "outputs": [],
   "source": []
  },
  {
   "cell_type": "code",
   "execution_count": 21,
   "id": "e54a5656",
   "metadata": {},
   "outputs": [],
   "source": [
    "from sklearn.ensemble import VotingClassifier, BaggingClassifier\n",
    "\n",
    "algos = [('lg', LogisticRegression()), ('smv', SVC(probability=True)), \n",
    "         ('knn', KNeighborsClassifier()), ('rf', RandomForestClassifier())]"
   ]
  },
  {
   "cell_type": "code",
   "execution_count": 22,
   "id": "f04512fa",
   "metadata": {},
   "outputs": [],
   "source": [
    "vc = VotingClassifier(estimators=algos, voting='soft')"
   ]
  },
  {
   "cell_type": "code",
   "execution_count": 23,
   "id": "edc1e8a8",
   "metadata": {},
   "outputs": [
    {
     "data": {
      "text/plain": [
       "VotingClassifier(estimators=[('lg', LogisticRegression()),\n",
       "                             ('smv', SVC(probability=True)),\n",
       "                             ('knn', KNeighborsClassifier()),\n",
       "                             ('rf', RandomForestClassifier())],\n",
       "                 voting='soft')"
      ]
     },
     "execution_count": 23,
     "metadata": {},
     "output_type": "execute_result"
    }
   ],
   "source": [
    "vc.fit(X_train, y_train)"
   ]
  },
  {
   "cell_type": "code",
   "execution_count": 24,
   "id": "8ed93333",
   "metadata": {},
   "outputs": [],
   "source": [
    "vcpred = vc.predict(X_test)"
   ]
  },
  {
   "cell_type": "code",
   "execution_count": 25,
   "id": "09059186",
   "metadata": {},
   "outputs": [
    {
     "name": "stdout",
     "output_type": "stream",
     "text": [
      "              precision    recall  f1-score   support\n",
      "\n",
      "           0       1.00      1.00      1.00        13\n",
      "           1       1.00      1.00      1.00        12\n",
      "\n",
      "    accuracy                           1.00        25\n",
      "   macro avg       1.00      1.00      1.00        25\n",
      "weighted avg       1.00      1.00      1.00        25\n",
      "\n",
      "[[13  0]\n",
      " [ 0 12]]\n"
     ]
    }
   ],
   "source": [
    "reports = metrics_(y_test, vcpred)\n",
    "reports.cr()\n",
    "reports.cm()"
   ]
  },
  {
   "cell_type": "code",
   "execution_count": 26,
   "id": "bc1e144a",
   "metadata": {},
   "outputs": [],
   "source": [
    "from xgboost import XGBClassifier\n",
    "from sklearn.ensemble import BaggingClassifier"
   ]
  },
  {
   "cell_type": "code",
   "execution_count": 28,
   "id": "5062f143",
   "metadata": {},
   "outputs": [
    {
     "name": "stdout",
     "output_type": "stream",
     "text": [
      "              precision    recall  f1-score   support\n",
      "\n",
      "           0       1.00      1.00      1.00        13\n",
      "           1       1.00      1.00      1.00        12\n",
      "\n",
      "    accuracy                           1.00        25\n",
      "   macro avg       1.00      1.00      1.00        25\n",
      "weighted avg       1.00      1.00      1.00        25\n",
      "\n",
      "[[13  0]\n",
      " [ 0 12]]\n"
     ]
    }
   ],
   "source": [
    "bc = BaggingClassifier(base_estimator=RandomForestClassifier()).fit(X_train, y_train)\n",
    "ypredbg = bc.predict(X_test)\n",
    "reports = metrics_(y_test, ypredbg)\n",
    "reports.cr()\n",
    "reports.cm()"
   ]
  },
  {
   "cell_type": "code",
   "execution_count": 29,
   "id": "6d607cad",
   "metadata": {},
   "outputs": [
    {
     "name": "stderr",
     "output_type": "stream",
     "text": [
      "C:\\Users\\lenovo\\anaconda3\\envs\\Assign\\lib\\site-packages\\xgboost\\sklearn.py:1146: UserWarning: The use of label encoder in XGBClassifier is deprecated and will be removed in a future release. To remove this warning, do the following: 1) Pass option use_label_encoder=False when constructing XGBClassifier object; and 2) Encode your labels (y) as integers starting with 0, i.e. 0, 1, 2, ..., [num_class - 1].\n",
      "  warnings.warn(label_encoder_deprecation_msg, UserWarning)\n"
     ]
    },
    {
     "name": "stdout",
     "output_type": "stream",
     "text": [
      "[18:34:48] WARNING: C:/Users/Administrator/workspace/xgboost-win64_release_1.4.0/src/learner.cc:1095: Starting in XGBoost 1.3.0, the default evaluation metric used with the objective 'binary:logistic' was changed from 'error' to 'logloss'. Explicitly set eval_metric if you'd like to restore the old behavior.\n",
      "              precision    recall  f1-score   support\n",
      "\n",
      "           0       1.00      1.00      1.00        13\n",
      "           1       1.00      1.00      1.00        12\n",
      "\n",
      "    accuracy                           1.00        25\n",
      "   macro avg       1.00      1.00      1.00        25\n",
      "weighted avg       1.00      1.00      1.00        25\n",
      "\n",
      "[[13  0]\n",
      " [ 0 12]]\n"
     ]
    }
   ],
   "source": [
    "xgb = XGBClassifier().fit(X_train, y_train)\n",
    "ypredxgb = xgb.predict(X_test)\n",
    "reports = metrics_(y_test, ypredbg)\n",
    "reports.cr()\n",
    "reports.cm()"
   ]
  },
  {
   "cell_type": "code",
   "execution_count": 30,
   "id": "984e1a4b",
   "metadata": {},
   "outputs": [],
   "source": [
    "from sklearn.linear_model import LinearRegression\n",
    "from sklearn.svm import SVR\n",
    "from sklearn.tree import DecisionTreeRegressor"
   ]
  },
  {
   "cell_type": "code",
   "execution_count": 31,
   "id": "0d7d4cb5",
   "metadata": {},
   "outputs": [],
   "source": [
    "# boston_house dataset price column as target or last column as target\n",
    "# https://www.kaggle.com/datasets/fedesoriano/the-boston-houseprice-data"
   ]
  },
  {
   "cell_type": "code",
   "execution_count": null,
   "id": "859cc509",
   "metadata": {},
   "outputs": [],
   "source": []
  }
 ],
 "metadata": {
  "kernelspec": {
   "display_name": "Python 3",
   "language": "python",
   "name": "python3"
  },
  "language_info": {
   "codemirror_mode": {
    "name": "ipython",
    "version": 3
   },
   "file_extension": ".py",
   "mimetype": "text/x-python",
   "name": "python",
   "nbconvert_exporter": "python",
   "pygments_lexer": "ipython3",
   "version": "3.7.10"
  }
 },
 "nbformat": 4,
 "nbformat_minor": 5
}
